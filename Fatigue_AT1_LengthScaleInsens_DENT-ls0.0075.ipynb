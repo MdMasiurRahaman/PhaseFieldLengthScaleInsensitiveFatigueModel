{
 "cells": [
  {
   "cell_type": "code",
   "execution_count": null,
   "id": "1dcc9d53",
   "metadata": {},
   "outputs": [],
   "source": [
    "using  GridapGmsh\n",
    "using  Gridap\n",
    "using  Gridap.Geometry\n",
    "using  Gridap.TensorValues\n",
    "using  Plots\n",
    "using LinearAlgebra\n",
    "using LineSearches: BackTracking\n",
    "using Gridap.Arrays\n",
    "using Gridap.ReferenceFEs"
   ]
  },
  {
   "cell_type": "code",
   "execution_count": null,
   "id": "3ddeeb6d",
   "metadata": {},
   "outputs": [],
   "source": [
    "const  E_mat = 210e3\n",
    "const  ν_mat = 0.3\n",
    "const  Gc = 2.7\n",
    "const  ls = 0.0075\n",
    "const  η = 1e-15"
   ]
  },
  {
   "cell_type": "code",
   "execution_count": null,
   "id": "03962246",
   "metadata": {},
   "outputs": [],
   "source": [
    "path = \"./fatigueresults$ls/\"                                # Output path\n",
    "mkpath(path) "
   ]
  },
  {
   "cell_type": "code",
   "execution_count": null,
   "id": "2d294a2a",
   "metadata": {},
   "outputs": [],
   "source": [
    "cd(\"fatigueresults$ls\")"
   ]
  },
  {
   "cell_type": "code",
   "execution_count": null,
   "id": "6b7184cc",
   "metadata": {},
   "outputs": [],
   "source": [
    "using  Gmsh: gmsh\n",
    "const  L = 0.3\n",
    "const  H = 1.0\n",
    "const  CL = 0.06 #Crack  height\n",
    "const  CH = H/100 #Crack  height\n",
    "const  CW = 0.05\n",
    "const  hfc = 0.005/100 #Mesh  size  parameter\n",
    "const  hf = 0.005/4 #Mesh  size  parameter\n",
    "const  h = 25*hf #Mesh  size  parameter\n",
    "const  FMR = 4*0.010\n",
    "gmsh.initialize()\n",
    "gmsh.option.setNumber(\"General.Terminal\", 1)\n",
    "gmsh.model.geo.addPoint(0.0, 0.0 , 0.0, h ,1)\n",
    "gmsh.model.geo.addPoint(L, 0.0, 0.0, h, 2)\n",
    "gmsh.model.geo.addPoint(L, H/2, 0.0, h, 3)\n",
    "gmsh.model.geo.addPoint(L, H/2 + CW/2 - CH/2, 0.0, h, 4)\n",
    "gmsh.model.geo.addPoint(L-(CL-CH), H/2 + CW/2 - CH/2, 0.0, h, 5)\n",
    "gmsh.model.geo.addPoint(L-(CL), H/2 + CW/2, 0.0, h, 6)\n",
    "gmsh.model.geo.addPoint(L-(CL-CH), H/2 + CW/2 + CH/2, 0.0, h, 7)\n",
    "gmsh.model.geo.addPoint(L, H/2 + CW/2 + CH/2, 0.0, h, 8)\n",
    "gmsh.model.geo.addPoint(L, H, 0.0, h, 9)\n",
    "gmsh.model.geo.addPoint(0.0, H, 0.0, h, 10)\n",
    "gmsh.model.geo.addPoint(0.0, H/2, 0.0, h, 11)\n",
    "gmsh.model.geo.addPoint(0.0, H/2 - CW/2 + CH/2, 0.0, h, 12)\n",
    "gmsh.model.geo.addPoint(CL-CH, H/2 - CW/2 + CH/2, 0.0, h, 13)\n",
    "gmsh.model.geo.addPoint(CL, H/2 - CW/2, 0.0, h, 14)\n",
    "gmsh.model.geo.addPoint(CL-CH, H/2 - CW/2 - CH/2, 0.0, h, 15)\n",
    "gmsh.model.geo.addPoint(0, H/2 - CW/2 - CH/2, 0.0, h, 16)\n",
    "\n",
    "gmsh.model.geo.addLine(1, 2, 1)\n",
    "gmsh.model.geo.addLine(2, 3, 2)\n",
    "gmsh.model.geo.addLine(3, 4, 3)\n",
    "gmsh.model.geo.addLine(4, 5, 4)\n",
    "gmsh.model.geo.addLine(5, 6, 5)\n",
    "gmsh.model.geo.addLine(6, 7, 6)\n",
    "gmsh.model.geo.addLine(7, 8, 7)\n",
    "gmsh.model.geo.addLine(8, 9, 8)\n",
    "gmsh.model.geo.addLine(9, 10, 9)\n",
    "gmsh.model.geo.addLine(10, 11, 10)\n",
    "gmsh.model.geo.addLine(11, 12, 11)\n",
    "gmsh.model.geo.addLine(12, 13, 12)\n",
    "gmsh.model.geo.addLine(13, 14, 13)\n",
    "gmsh.model.geo.addLine(14, 15, 14)\n",
    "gmsh.model.geo.addLine(15, 16, 15)\n",
    "gmsh.model.geo.addLine(16, 1, 16)\n",
    "\n",
    "gmsh.model.geo.addCurveLoop([1,2,3,4,5,6,7,8,9,10,11,12,13,14,15,16],1)\n",
    "\n",
    "gmsh.model.geo.addPlaneSurface([1], 1)\n",
    "gmsh.model.addPhysicalGroup(2, [1],1)\n",
    "\n",
    "gmsh.model.addPhysicalGroup(0, [3],1)\n",
    "gmsh.model.addPhysicalGroup(0, [11],2)\n",
    "\n",
    "gmsh.model.addPhysicalGroup(1, [1],1)\n",
    "gmsh.model.addPhysicalGroup(1, [9],2)\n",
    "\n",
    "\n",
    "gmsh.model.setPhysicalName(2, 1, \"Domain\")\n",
    "\n",
    "gmsh.model.setPhysicalName(0, 1, \"DirichletRightPoint\")\n",
    "gmsh.model.setPhysicalName(0, 2, \"DirichletLeftPoint\")\n",
    "\n",
    "gmsh.model.setPhysicalName(1, 1, \"DirichletBottom\")\n",
    "gmsh.model.setPhysicalName(1, 2, \"DirichletTop\")\n",
    "\n",
    "gmsh.model.mesh.field.add(\"Box\", 10)\n",
    "gmsh.model.mesh.field.setNumber(10, \"VIn\", hf)\n",
    "gmsh.model.mesh.field.setNumber(10, \"VOut\", h)\n",
    "gmsh.model.mesh.field.setNumber(10, \"XMin\", 0)\n",
    "gmsh.model.mesh.field.setNumber(10, \"XMax\", L)\n",
    "gmsh.model.mesh.field.setNumber(10, \"YMin\", 0.5*H - 2*FMR)\n",
    "gmsh.model.mesh.field.setNumber(10, \"YMax\", 0.5*H + 2*FMR)\n",
    "\n",
    "gmsh.model.mesh.field.setAsBackgroundMesh(10)\n",
    "gmsh.model.geo.synchronize()\n",
    "gmsh.model.mesh.generate(2)\n",
    "gmsh.write(\"SENT_Mesh.msh\")\n",
    "gmsh.finalize()"
   ]
  },
  {
   "cell_type": "code",
   "execution_count": null,
   "id": "d6523a01",
   "metadata": {},
   "outputs": [],
   "source": [
    "model = GmshDiscreteModel(\"SENT_Mesh.msh\")\n",
    "writevtk(model ,\"SENT_Mesh\") "
   ]
  },
  {
   "cell_type": "code",
   "execution_count": null,
   "id": "12cf4899",
   "metadata": {},
   "outputs": [],
   "source": [
    "const σc = 2445.42 \n",
    "const m = 3*E_mat*Gc/(4*ls*σc^2)\n",
    "const ψ_Crit = σc^2 / (2*E_mat)\n",
    "const kf = 0.5\n",
    "const αT = ψ_Crit/kf"
   ]
  },
  {
   "cell_type": "code",
   "execution_count": null,
   "id": "adcedfa5",
   "metadata": {},
   "outputs": [],
   "source": [
    "function degDer(ϕ)\n",
    "    g = (m*ϕ)/(0.25*m^2*ϕ^4 - 0.5*m^2*ϕ^2 + 0.25*m^2 - m*ϕ^4 + m*ϕ^2 + ϕ^4) \n",
    "    return g\n",
    "end"
   ]
  },
  {
   "cell_type": "code",
   "execution_count": null,
   "id": "da2744ce",
   "metadata": {},
   "outputs": [],
   "source": [
    "function  ElasFourthOrderConstTensor(E,ν,PlanarState)\n",
    "    # 1 for  Plane  Stress  and 2 Plane  Strain  Condition\n",
    "    if  PlanarState  == 1\n",
    "        C1111 =E/(1-ν*ν)\n",
    "        C1122 = (ν*E)/(1-ν*ν)\n",
    "        C1112 = 0.0\n",
    "        C2222 =E/(1-ν*ν)\n",
    "        C2212 = 0.0\n",
    "        C1212 =E/(2*(1+ν))\n",
    "    elseif  PlanarState  == 2\n",
    "        C1111 = (E*(1-ν*ν))/((1+ν)*(1-ν-2*ν*ν))\n",
    "        C1122 = (ν*E)/(1-ν-2*ν*ν)\n",
    "        C1112 = 0.0\n",
    "        C2222 = (E*(1-ν))/(1-ν-2*ν*ν)\n",
    "        C2212 = 0.0\n",
    "        C1212 =E/(2*(1+ν))\n",
    "    end\n",
    "    C_ten = SymFourthOrderTensorValue(C1111 ,C1112 ,C1122 ,C1112 ,C1212 ,C2212 ,C1122 ,C2212 ,C2222)\n",
    "    return   C_ten\n",
    "end\n",
    "     \n",
    "\n",
    "const  C_mat = ElasFourthOrderConstTensor(E_mat ,ν_mat ,2)\n",
    "     "
   ]
  },
  {
   "cell_type": "code",
   "execution_count": null,
   "id": "36b20afc",
   "metadata": {},
   "outputs": [],
   "source": [
    "I2 = SymTensorValue{2,Float64}(1.0 ,0.0 ,1.0)\n",
    "I4 = I2⊗I2\n",
    "I4_sym = one(SymFourthOrderTensorValue{2,Float64})\n",
    "P_vol = (1.0/2)*I4\n",
    "P_dev = I4_sym  - P_vol\n",
    "     "
   ]
  },
  {
   "cell_type": "code",
   "execution_count": null,
   "id": "a23f453d",
   "metadata": {},
   "outputs": [],
   "source": [
    "function σfun(ε,ε_in,s_in)\n",
    "    σ_elas = C_mat⊙ε\n",
    "    gs = (s_in^2) / (s_in^2 + m*(1-s_in)*(0.5+0.5*s_in))\n",
    "    if tr(ε_in) >= 0\n",
    "        σ = (gs)*σ_elas\n",
    "    elseif  tr(ε_in) < 0\n",
    "        σ = (gs)*P_dev ⊙ σ_elas + P_vol ⊙ σ_elas\n",
    "    end\n",
    "    return  σ\n",
    "end\n",
    "     "
   ]
  },
  {
   "cell_type": "code",
   "execution_count": null,
   "id": "fa31a4cb",
   "metadata": {},
   "outputs": [],
   "source": [
    "function ψPos(ε_in,Fdg)\n",
    "   σ_elas = C_mat⊙ε_in\n",
    "    if tr(ε_in) >= 0\n",
    "        ψPlus = 0.5*(ε_in ⊙ σ_elas)/(Fdg)\n",
    "    elseif  tr(ε_in) < 0\n",
    "        ψPlus = 0.5*((P_dev ⊙ σ_elas)⊙(P_dev⊙ε_in))/(Fdg)\n",
    "    end\n",
    "    return ψPlus\n",
    "end\n",
    "\n",
    "function ψPosOrg(ε_in)\n",
    "   σ_elas = C_mat⊙ε_in\n",
    "    if tr(ε_in) >= 0\n",
    "        ψPlus = 0.5*(ε_in ⊙ σ_elas)\n",
    "    elseif  tr(ε_in) < 0\n",
    "        ψPlus = 0.5*((P_dev ⊙ σ_elas)⊙(P_dev⊙ε_in))\n",
    "    end\n",
    "    return ψPlus\n",
    "end"
   ]
  },
  {
   "cell_type": "code",
   "execution_count": null,
   "id": "da8b04bf",
   "metadata": {},
   "outputs": [],
   "source": [
    "function  new_EnergyState(ψPlusPrev_in,ψhPos_in)\n",
    "    ψPlus_in = ψhPos_in\n",
    "    if ψPlus_in  >=ψPlusPrev_in\n",
    "        ψPlus_out =ψPlus_in\n",
    "    else\n",
    "        ψPlus_out=ψPlusPrev_in\n",
    "    end\n",
    "    true,ψPlus_out\n",
    "end\n",
    "     "
   ]
  },
  {
   "cell_type": "code",
   "execution_count": null,
   "id": "98689763",
   "metadata": {},
   "outputs": [],
   "source": [
    "function  project(q,model ,dΩ,order)\n",
    "    reffe = ReferenceFE(lagrangian ,Float64 ,order)\n",
    "    V = FESpace(model ,reffe ,conformity =:L2)\n",
    "    a(u,v) =∫(u*v)*dΩ\n",
    "    b(v) =∫(v*q)*dΩ\n",
    "    op = AffineFEOperator(a,b,V,V)\n",
    "    qh = solve(op)\n",
    "    return  qh\n",
    "end\n",
    "     "
   ]
  },
  {
   "cell_type": "code",
   "execution_count": null,
   "id": "6eb36203",
   "metadata": {},
   "outputs": [],
   "source": [
    "function FatigueDegrad(αb)\n",
    "    fdg = @. ifelse(αb >= αT , ((2*αT)/(αb + αT))*((2*αT)/(αb + αT)), 1.0)\n",
    "    return fdg\n",
    "end"
   ]
  },
  {
   "cell_type": "code",
   "execution_count": null,
   "id": "0042637f",
   "metadata": {},
   "outputs": [],
   "source": [
    "function FatiguehistoryVariable(ψhPos_in,αPrev,αbPrev)\n",
    "    α = ψhPos_in #(s_in ^2 + η)*ψhPos_in\n",
    "    if α >= αPrev\n",
    "       αb = αbPrev + abs(α-αPrev)\n",
    "    else\n",
    "       αb = αbPrev\n",
    "    end\n",
    "return αb\n",
    "end"
   ]
  },
  {
   "cell_type": "code",
   "execution_count": null,
   "id": "962a11d0",
   "metadata": {},
   "outputs": [],
   "source": [
    "function αNC(s_in,ψhPos_in)\n",
    "    gs = (s_in^2) / (s_in^2 + m*(1-s_in)*(0.5+0.5*s_in))\n",
    "    α = gs * ψhPos_in\n",
    "return α\n",
    "end"
   ]
  },
  {
   "cell_type": "code",
   "execution_count": null,
   "id": "6ae80911",
   "metadata": {},
   "outputs": [],
   "source": [
    "order = 1\n",
    "reffe_PF = ReferenceFE(lagrangian ,Float64,order)\n",
    "V0_PF = TestFESpace(model ,reffe_PF;conformity =:H1)\n",
    "U_PF = TrialFESpace(V0_PF)\n",
    "sh = zero(V0_PF)"
   ]
  },
  {
   "cell_type": "markdown",
   "id": "dcd94efb",
   "metadata": {},
   "source": [
    "# Modified"
   ]
  },
  {
   "cell_type": "code",
   "execution_count": null,
   "id": "54d69f81",
   "metadata": {},
   "outputs": [],
   "source": [
    "reffe_Disp = ReferenceFE(lagrangian ,VectorValue{2,Float64},order)\n",
    "V0_Disp = TestFESpace(model,reffe_Disp;conformity =:H1,\n",
    "    dirichlet_tags = [\"DirichletLeftPoint\",\"DirichletRightPoint\",\"DirichletBottom\",\"DirichletTop\"],\n",
    "    dirichlet_masks =[(true,false),(true,false), (false ,true), (false ,true)])\n",
    "\n",
    "uh = zero(V0_Disp)"
   ]
  },
  {
   "cell_type": "code",
   "execution_count": null,
   "id": "13acbbf9",
   "metadata": {},
   "outputs": [],
   "source": [
    "degree = 2*order\n",
    "Ω= Triangulation(model)\n",
    "dΩ= Measure(Ω,degree)"
   ]
  },
  {
   "cell_type": "code",
   "execution_count": null,
   "id": "f8b503f1",
   "metadata": {},
   "outputs": [],
   "source": [
    "labels = get_face_labeling(model)\n",
    "LoadTagId = get_tag_from_name(labels ,\"DirichletTop\")\n",
    "Γ_Load = BoundaryTriangulation(model ,tags = LoadTagId)\n",
    "dΓ_Load = Measure(Γ_Load ,degree)\n",
    "n_Γ_Load = get_normal_vector(Γ_Load)"
   ]
  },
  {
   "cell_type": "code",
   "execution_count": null,
   "id": "b270e36c",
   "metadata": {},
   "outputs": [],
   "source": [
    "nls = NLSolver(\n",
    "  show_trace=true,\n",
    "  method=:newton,\n",
    "  linesearch=BackTracking(), iterations = 10)\n",
    "solver = FESolver(nls)"
   ]
  },
  {
   "cell_type": "code",
   "execution_count": null,
   "id": "f92147f9",
   "metadata": {},
   "outputs": [],
   "source": [
    "function crack_tip_tracker(sh,tol)\n",
    "    damagetracker = Float64[]\n",
    "    sVec = Float64[]\n",
    "    coords = get_node_coordinates(Ω)\n",
    "    \n",
    "    sVec = get_free_dof_values(sh)\n",
    "    \n",
    "    for i in 1:length(sVec)\n",
    "        if sVec[i] <= tol\n",
    "            push!(damagetracker,i)\n",
    "        end\n",
    "    end\n",
    "   damagetracker = round.(Int,damagetracker)\n",
    "    xloc = Float64[]\n",
    "    yloc = Float64[]\n",
    "    if damagetracker!= Float64[]\n",
    "        for i in 1:length(damagetracker)\n",
    "            push!(xloc,coords[damagetracker[i]][1])\n",
    "            push!(yloc,coords[damagetracker[i]][2])\n",
    "        end\n",
    "        Locx, index= findmax(xloc)\n",
    "        Locy = yloc[index]\n",
    "        return (Locx,Locy)\n",
    "    else \n",
    "       return \"No damage\"\n",
    "    end\n",
    "end"
   ]
  },
  {
   "cell_type": "code",
   "execution_count": null,
   "id": "75976c03",
   "metadata": {},
   "outputs": [],
   "source": [
    "function stepPhaseField(x0,vApp,cache,ψPlusPrev_in)\n",
    "     U_PF = TrialFESpace(V0_PF)\n",
    "     res(s,ϕ) = ∫( (3/4)*Gc*ls*∇(ϕ)⋅ ∇(s) + (degDer∘(s))*ψPlusPrev_in*ϕ - ((3/8)*Gc/ls)*ϕ)*dΩ\n",
    "     op = FEOperator(res,U_PF,V0_PF)\n",
    "     sh_out = FEFunction(U_PF,x0)\n",
    "     sh_out, cache = solve!(sh_out,solver,op,cache)\n",
    "  return sh_out, get_free_dof_values(sh_out), cache\n",
    "end"
   ]
  },
  {
   "cell_type": "code",
   "execution_count": null,
   "id": "1ac48c6f",
   "metadata": {},
   "outputs": [],
   "source": [
    "function  stepDisp(uh_in,sh_in ,vApp)\n",
    "    uApp1(x) = VectorValue(0.0,0.0)\n",
    "    uApp2(x) = VectorValue(0.0,0.0)\n",
    "    uApp3(x) = VectorValue(0.0,-vApp)\n",
    "    uApp4(x) = VectorValue(0.0,vApp)\n",
    "    U_Disp = TrialFESpace(V0_Disp ,[uApp1,uApp2,uApp3,uApp4])\n",
    "    a_Disp(u,v) =∫( (ε(v)⊙(σfun∘(ε(u),ε(uh_in),sh_in)) ) )*dΩ\n",
    "    b_Disp(v) = 0.0\n",
    "    op_Disp = AffineFEOperator(a_Disp ,b_Disp ,U_Disp ,V0_Disp)\n",
    "    uh_out = solve(op_Disp)\n",
    "    return  uh_out\n",
    "end\n",
    "     "
   ]
  },
  {
   "cell_type": "code",
   "execution_count": null,
   "id": "12d38d95",
   "metadata": {
    "scrolled": true
   },
   "outputs": [],
   "source": [
    "vApp = 0\n",
    "const innerMax = 10\n",
    "const tol_lim = 1e-10\n",
    "count = 0\n",
    "\n",
    "const T = 1\n",
    "const n = 200\n",
    "const Tₚ = T/n\n",
    "const n1 = 16 # loadsteps\n",
    "const delv = 0.001\n",
    "const tp = Tₚ/n1\n",
    "t = 0.0\n",
    "cycle = 0\n",
    "const dc = 1/n1\n",
    "\n",
    "Load = Float64[]\n",
    "Displacement = Float64[]\n",
    "time = Float64[]\n",
    "AppDisplacement = Float64[]\n",
    "αEnergy = Float64[]\n",
    "αDegrad = Float64[]\n",
    "NoofCycles = Float64[]\n",
    "Xloccrack = Float64[]\n",
    "Yloccrack = Float64[]\n",
    "\n",
    "\n",
    "push!(Xloccrack,(L/2))\n",
    "push!(Yloccrack,0.5*H)\n",
    "push!(Load, 0.0)\n",
    "push!(Displacement, 0.0)\n",
    "\n",
    "push!(time, t)\n",
    "push!(AppDisplacement, vApp)\n",
    "push!(NoofCycles, cycle)\n",
    "\n",
    "push!(αEnergy, 0.0)\n",
    "push!(αDegrad, 1.0)\n",
    "\n",
    "sPrev = CellState(1.0,dΩ)\n",
    "sh = project(sPrev ,model ,dΩ,order)\n",
    "x0_PF = ones(Float64,num_free_dofs(V0_PF))\n",
    "cache_1 = nothing\n",
    "\n",
    "αPrev = CellState(0.0,dΩ)\n",
    "αbPrev = CellState(0.0,dΩ)\n",
    "\n",
    "αhPlusPrev = project(αPrev,model,dΩ,order)\n",
    "αbhPlusPrev = project(αbPrev,model,dΩ,order)\n",
    "\n",
    "FdhPrev = FatigueDegrad∘(αbhPlusPrev)\n",
    "\n",
    "ψPlusPrev = CellState(ψ_Crit,dΩ)\n",
    "\n",
    "while  t .< T\n",
    "    t = t + tp\n",
    "    vAppC = abs(4*delv/Tₚ * abs((((t-Tₚ/4)%Tₚ)+Tₚ)%Tₚ - Tₚ/2) - delv)\n",
    "    vApp = round(vAppC,digits = 6)\n",
    "    count = count .+ 1\n",
    "    cycle = cycle + dc\n",
    "    FdhPrev = FatigueDegrad∘(αbhPlusPrev)\n",
    "    \n",
    "    print(\"\\n Entering  displacemtent  step$count:\", float(vApp))\n",
    "        \n",
    "    for  inner = 1: innerMax\n",
    "        ψhPlusPrev = project(ψPlusPrev ,model ,dΩ,order)\n",
    "        RelErr = abs(sum(∫( (3/4)*Gc*ls*∇(sh)⋅ ∇(sh) + (degDer∘(sh))*ψhPlusPrev*sh)*dΩ-∫( ((3/8)*Gc/ls)*sh)*dΩ))/abs(sum(∫( ((3/8)*Gc/ls)*sh)*dΩ))\n",
    "        \n",
    "        println(\"\\n Relative error =\", float(RelErr), \"\\n\")\n",
    "        sh,x0_PF,cache_1 = stepPhaseField(x0_PF,vApp,cache_1,ψhPlusPrev)\n",
    "        uh = stepDisp(uh,sh,vApp)\n",
    "        \n",
    "        ψhPos_in =ψPos∘(ε(uh),FdhPrev)\n",
    "        \n",
    "        update_state!( new_EnergyState ,ψPlusPrev ,ψhPos_in)\n",
    "        if   RelErr  < 1e-6\n",
    "            break\n",
    "        end\n",
    "    end\n",
    "    \n",
    "    if  crack_tip_tracker(sh,tol_lim) ==\"No damage\"\n",
    "        push!(Xloccrack,0.5*L)\n",
    "        push!(Yloccrack,0.5*H)\n",
    "    else\n",
    "        (X_t, Y_t) = crack_tip_tracker(sh,tol_lim)\n",
    "        push!(Xloccrack,X_t)\n",
    "        push!(Yloccrack,Y_t)\n",
    "    end\n",
    "    \n",
    "    ψhPosOrg_in = ψPosOrg∘(ε(uh))\n",
    "    αPrev = αNC∘(sh,ψhPosOrg_in)\n",
    "    αbPrev = FatiguehistoryVariable∘(αPrev,αhPlusPrev,αbhPlusPrev)\n",
    "    \n",
    "    αhPlusPrev = project(αPrev,model,dΩ,order)\n",
    "    αbhPlusPrev = project(αbPrev,model,dΩ,order)\n",
    "    \n",
    "    FdhPrev = FatigueDegrad∘(αbhPlusPrev)\n",
    "    \n",
    "    αbPrevVal = evaluate(αbPrev,VectorValue(0.5*L, 2*CH))\n",
    "    Fdegrad = evaluate(FdhPrev,VectorValue(0.5*L, 2*CH))\n",
    "    \n",
    "    push!(time, t)\n",
    "    push!(AppDisplacement, vApp)\n",
    "    push!(NoofCycles, cycle)\n",
    "    \n",
    "    push!(αEnergy, αbPrevVal)\n",
    "    push!(αDegrad, Fdegrad)\n",
    "    \n",
    "    Node_Force = sum(∫(n_Γ_Load⋅(σfun∘(ε(uh),ε(uh),sh)))*dΓ_Load)\n",
    "    \n",
    "    push!(Load , Node_Force[2])\n",
    "    push!( Displacement , vApp)\n",
    "    if mod(count,n1) == 0\n",
    "        writevtk(Ω,\"results_DENT_Test$count\",cellfields= [\"uh\"=>uh,\"s\"=>sh , \"epsi\"=>ε(uh),\"Fdeg\"=> FdhPrev, \"alphabar\"=> αbhPlusPrev])\n",
    "    end\n",
    " end     "
   ]
  },
  {
   "cell_type": "code",
   "execution_count": null,
   "id": "1f7c2711",
   "metadata": {},
   "outputs": [],
   "source": [
    "plot(Displacement,Load)"
   ]
  },
  {
   "cell_type": "code",
   "execution_count": null,
   "id": "d49469ae",
   "metadata": {},
   "outputs": [],
   "source": [
    "plot(NoofCycles[1:930],Xloccrack[1:930].-(0.5*L))"
   ]
  },
  {
   "cell_type": "code",
   "execution_count": null,
   "id": "a6d220ba",
   "metadata": {},
   "outputs": [],
   "source": [
    "using DelimitedFiles\n",
    "using CSV\n",
    "using Plots"
   ]
  },
  {
   "cell_type": "code",
   "execution_count": null,
   "id": "1149aa6c",
   "metadata": {},
   "outputs": [],
   "source": [
    "using LaTeXStrings"
   ]
  },
  {
   "cell_type": "code",
   "execution_count": null,
   "id": "2a871da5",
   "metadata": {},
   "outputs": [],
   "source": [
    "parent_path = \"../PlottingFiles/\"     # Go up one level and define the new folder name\n",
    "mkpath(parent_path)"
   ]
  },
  {
   "cell_type": "code",
   "execution_count": null,
   "id": "07005057",
   "metadata": {},
   "outputs": [],
   "source": [
    "cd(\"../PlottingFiles/\")"
   ]
  },
  {
   "cell_type": "code",
   "execution_count": null,
   "id": "46cf9781",
   "metadata": {},
   "outputs": [],
   "source": [
    "NoofCyclesCSV = writedlm(\"kf01_Step16NoofCyclesPhlsfullVolDev$ls.csv\",  NoofCycles, ',')\n",
    "XloccrackCSV = writedlm(\"kf01_Step16XloccrackPhlsfullVolDev$ls.csv\",  Xloccrack, ',')\n",
    "YloccrackCSV = writedlm(\"kf01_Step16YloccrackPhlsfullVolDev$ls.csv\",  Yloccrack, ',')\n",
    "LoadCSV = writedlm(\"kf01_Step16LoadPhlsfullVolDev$ls.csv\",  Load, ',')"
   ]
  }
 ],
 "metadata": {
  "kernelspec": {
   "display_name": "Julia 1.8.1",
   "language": "julia",
   "name": "julia-1.8"
  },
  "language_info": {
   "file_extension": ".jl",
   "mimetype": "application/julia",
   "name": "julia",
   "version": "1.8.1"
  }
 },
 "nbformat": 4,
 "nbformat_minor": 5
}
